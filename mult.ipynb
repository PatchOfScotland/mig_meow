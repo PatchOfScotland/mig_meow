{
 "cells": [
  {
   "cell_type": "code",
   "execution_count": null,
   "metadata": {},
   "outputs": [],
   "source": [
    "#Default parameters values\n",
    "# Factor to multiply data by\n",
    "factor = 2\n",
    "\n",
    "# Data input file location\n",
    "infile = 'initial_data/data_0.npy'\n",
    "\n",
    "# Output file location\n",
    "outfile = 'data/data_0.npy'"
   ]
  },
  {
   "cell_type": "code",
   "execution_count": null,
   "metadata": {},
   "outputs": [],
   "source": [
    "import numpy as np\n",
    "import os"
   ]
  },
  {
   "cell_type": "code",
   "execution_count": null,
   "metadata": {},
   "outputs": [],
   "source": [
    "# load in dataset. Should be numpy array\n",
    "data = np.load(infile)\n",
    "\n",
    "# multiply all the values in the array by factor\n",
    "doubled = data * factor\n",
    "\n",
    "# Create output directory if it doesn''t exist\n",
    "output_dir_path = os.path.dirname(outfile)\n",
    "if output_dir_path:\n",
    "    os.makedirs(output_dir_path, exist_ok=True)\n",
    "\n",
    "# Save doubled array as new dataset\n",
    "np.save(outfile, doubled)"
   ]
  },
  {
   "cell_type": "code",
   "execution_count": null,
   "metadata": {},
   "outputs": [],
   "source": []
  }
 ],
 "metadata": {
  "kernelspec": {
   "display_name": "Python 3",
   "language": "python",
   "name": "python3"
  },
  "language_info": {
   "codemirror_mode": {
    "name": "ipython",
    "version": 3
   },
   "file_extension": ".py",
   "mimetype": "text/x-python",
   "name": "python",
   "nbconvert_exporter": "python",
   "pygments_lexer": "ipython3",
   "version": "3.6.9"
  }
 },
 "nbformat": 4,
 "nbformat_minor": 4
}
