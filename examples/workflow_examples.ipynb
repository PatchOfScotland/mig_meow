{
 "cells": [
  {
   "cell_type": "code",
   "execution_count": null,
   "metadata": {},
   "outputs": [],
   "source": [
    "%%javascript\n",
    "IPython.OutputArea.prototype._should_scroll = function(lines) {\n",
    "    return false;\n",
    "}"
   ]
  },
  {
   "cell_type": "code",
   "execution_count": null,
   "metadata": {},
   "outputs": [],
   "source": [
    "# local testing\n",
    "%env WORKFLOWS_URL=https://sid.migrid.test/cgi-sid/workflowsjsoninterface.py?output_format=json\n",
    "%env JOBS_URL=https://sid.migrid.test/cgi-sid/jobsjsoninterface.py?output_format=json\n",
    "%env WORKFLOWS_SESSION_ID=da428163ade98ca33f44d874f03c677accab3a0243107a0ddea2a6a665527188"
   ]
  },
  {
   "cell_type": "code",
   "execution_count": null,
   "metadata": {},
   "outputs": [],
   "source": [
    "# test-idmc testing\n",
    "%env WORKFLOWS_URL=https://test-sid.idmc.dk/cgi-sid/workflowsjsoninterface.py?output_format=json\n",
    "%env JOBS_URL=https://test-sid.idmc.dk/cgi-sid/jobsjsoninterface.py?output_format=json\n",
    "%env WORKFLOWS_SESSION_ID=c0ce045d689d46148676b449c3efa91bbb994f60d7bcf1514f5b4e75abd43f56"
   ]
  },
  {
   "cell_type": "code",
   "execution_count": 1,
   "metadata": {},
   "outputs": [
    {
     "name": "stdout",
     "output_type": "stream",
     "text": [
      "ver: 0.15\n",
      "mig_meow has been imported correctly. \n",
      "Managing Event Oriented Workflows is a paradigm used for defining event based workflows. It is designed primarily to work with IDMC, a MiG implementation available at the University of Copenhagen. \n"
     ]
    }
   ],
   "source": [
    "import os\n",
    "import ipywidgets as widgets\n",
    "\n",
    "import warnings \n",
    "warnings.filterwarnings('ignore')\n",
    "\n",
    "base_dir = os.getcwd()\n",
    "# print('base dir: %s' % base_dir)\n",
    "new_dir = os.getcwd().replace('/test_mig/vgrid_files_home/test_vgrid', '')\n",
    "# print('new_dir: %s' % new_dir)\n",
    "os.chdir(new_dir)\n",
    "\n",
    "local_vgrid = 'link_test'\n",
    "remote_vgrid = 'patchesTesting'\n",
    "\n",
    "import mig_meow as meow\n",
    "meow.info()\n",
    "\n",
    "os.chdir(base_dir)"
   ]
  },
  {
   "cell_type": "code",
   "execution_count": 2,
   "metadata": {},
   "outputs": [
    {
     "data": {
      "application/vnd.jupyter.widget-view+json": {
       "model_id": "3a35e5590a8c4aa58241a20f4851853a",
       "version_major": 2,
       "version_minor": 0
      },
      "text/plain": [
       "VBox(children=(ToggleButtons(description='Mode:', options=('MEOW', 'CWL'), tooltips=('Construct workflows as d…"
      ]
     },
     "metadata": {},
     "output_type": "display_data"
    }
   ],
   "source": [
    "meow.workflow_widget(vgrid=local_vgrid, debug=True)"
   ]
  },
  {
   "cell_type": "code",
   "execution_count": null,
   "metadata": {},
   "outputs": [],
   "source": [
    "meow.monitor_widget(vgrid='meowTest')"
   ]
  },
  {
   "cell_type": "code",
   "execution_count": null,
   "metadata": {},
   "outputs": [],
   "source": [
    "r = meow.read_vgrid(vgrid)\n",
    "print(r['patterns'].keys())\n",
    "print(r['recipes'].keys())"
   ]
  },
  {
   "cell_type": "code",
   "execution_count": null,
   "metadata": {},
   "outputs": [],
   "source": [
    "r = meow.read_vgrid_pattern('third_choo', 'testVgrid')\n",
    "print(r.name)"
   ]
  },
  {
   "cell_type": "code",
   "execution_count": null,
   "metadata": {},
   "outputs": [],
   "source": [
    "r = meow.read_vgrid_recipe('choo', 'testVgrid')\n",
    "print(r['name'])"
   ]
  },
  {
   "cell_type": "code",
   "execution_count": null,
   "metadata": {},
   "outputs": [],
   "source": [
    "p = meow.Pattern('tester')\n",
    "p.add_single_input('input_file', 'data/*')\n",
    "p.add_recipe('tester')\n",
    "p.integrity_check()\n",
    "\n",
    "r = meow.write_vgrid_pattern(p, 'testVgrid')"
   ]
  },
  {
   "cell_type": "code",
   "execution_count": null,
   "metadata": {},
   "outputs": [],
   "source": [
    "c = meow.register_recipe('empty.ipynb', name='testing')\n",
    "\n",
    "meow.is_valid_recipe_dict(c)\n",
    "\n",
    "r = meow.write_vgrid_recipe(c, 'testVgrid')"
   ]
  },
  {
   "cell_type": "code",
   "execution_count": null,
   "metadata": {},
   "outputs": [],
   "source": [
    "p = meow.read_vgrid_pattern('tester', 'testVgrid')\n",
    "\n",
    "r = meow.delete_vgrid_pattern(p, 'testVgrid')"
   ]
  },
  {
   "cell_type": "code",
   "execution_count": null,
   "metadata": {},
   "outputs": [],
   "source": [
    "c = meow.read_vgrid_recipe('testing', 'testVgrid')\n",
    "\n",
    "r = meow.delete_vgrid_recipe(c, 'testVgrid')"
   ]
  },
  {
   "cell_type": "code",
   "execution_count": null,
   "metadata": {},
   "outputs": [],
   "source": []
  },
  {
   "cell_type": "code",
   "execution_count": null,
   "metadata": {},
   "outputs": [],
   "source": [
    "# read all dir contents\n",
    "r = meow.read_dir()\n",
    "print(r['patterns'].keys())\n",
    "print(r['recipes'].keys())\n",
    "\n",
    "patterns = r['patterns']\n",
    "recipes = r['recipes']\n"
   ]
  },
  {
   "cell_type": "code",
   "execution_count": null,
   "metadata": {},
   "outputs": [],
   "source": [
    "# write patterns and recipes to local vgrid\n",
    "res = meow.write_vgrid(patterns, recipes, local_vgrid, ssl=False)\n"
   ]
  },
  {
   "cell_type": "code",
   "execution_count": null,
   "metadata": {},
   "outputs": [],
   "source": [
    "r = meow.read_dir()\n",
    "print(r['patterns'].keys())\n",
    "print(r['recipes'].keys())\n",
    "\n",
    "new_r = meow.write_vgrid(r['patterns'], r['recipes'], local_vgrid, ssl=False)"
   ]
  },
  {
   "cell_type": "code",
   "execution_count": null,
   "metadata": {},
   "outputs": [],
   "source": [
    "r = meow.read_dir_pattern('third_choo')\n",
    "print(r.name)"
   ]
  },
  {
   "cell_type": "code",
   "execution_count": null,
   "metadata": {},
   "outputs": [],
   "source": [
    "r = meow.read_dir_recipe('choo')\n",
    "print(r['name'])"
   ]
  },
  {
   "cell_type": "code",
   "execution_count": null,
   "metadata": {},
   "outputs": [],
   "source": [
    "p = meow.Pattern('tester')\n",
    "p.add_single_input('input_file', 'data/*')\n",
    "p.add_recipe('tester')\n",
    "p.integrity_check()\n",
    "\n",
    "r = meow.write_dir_pattern(p)"
   ]
  },
  {
   "cell_type": "code",
   "execution_count": null,
   "metadata": {},
   "outputs": [],
   "source": [
    "c = meow.register_recipe('empty.ipynb', name='testing')\n",
    "\n",
    "meow.is_valid_recipe_dict(c)\n",
    "\n",
    "r = meow.write_dir_recipe(c)"
   ]
  },
  {
   "cell_type": "code",
   "execution_count": null,
   "metadata": {},
   "outputs": [],
   "source": [
    "p = meow.read_dir_pattern('tester')\n",
    "\n",
    "r = meow.delete_dir_pattern('tester')"
   ]
  },
  {
   "cell_type": "code",
   "execution_count": null,
   "metadata": {},
   "outputs": [],
   "source": [
    "c = meow.read_dir_recipe('testing')\n",
    "\n",
    "r = meow.delete_dir_recipe(c)"
   ]
  },
  {
   "cell_type": "code",
   "execution_count": null,
   "metadata": {},
   "outputs": [],
   "source": [
    "# Print pattern variables\n",
    "for pattern in patterns.values():\n",
    "    for var, val in pattern.variables.items():\n",
    "        print(\"pattern %s has variable %s of type %s with value %s\" % (pattern.name, var, type(val), val))"
   ]
  },
  {
   "cell_type": "code",
   "execution_count": null,
   "metadata": {},
   "outputs": [],
   "source": [
    "# write patterns and recipes to remote vgrid\n",
    "r = meow.write_vgrid(patterns, recipes, remote_vgrid)"
   ]
  },
  {
   "cell_type": "code",
   "execution_count": null,
   "metadata": {},
   "outputs": [],
   "source": [
    "# get remote vgrid contents\n",
    "r = meow.read_vgrid(remote_vgrid)\n",
    "print(r['patterns'].keys())\n",
    "print(r['recipes'].keys())\n",
    "\n",
    "patterns = r['patterns']\n",
    "recipes = r['recipes']"
   ]
  },
  {
   "cell_type": "code",
   "execution_count": null,
   "metadata": {},
   "outputs": [],
   "source": [
    "st = 'hello'\n",
    "\n",
    "ou = \"%s\" % type(st)\n",
    "ou = ou.replace('<', '')\n",
    "ou = ou.replace('>', '')\n",
    "print(ou)"
   ]
  },
  {
   "cell_type": "code",
   "execution_count": null,
   "metadata": {},
   "outputs": [],
   "source": [
    "vars = {\n",
    "    'int': '42',\n",
    "    'float': '4.2',\n",
    "    'str': '''42''',\n",
    "    'string': '''gary''',\n",
    "    'num_list': '[4, 2]',\n",
    "    'str_list': '[''4'', ''2'']'\n",
    "}\n",
    "\n",
    "for k, v in vars.items():\n",
    "    try:\n",
    "        e = eval(v)\n",
    "    except:\n",
    "        e = v\n",
    "    print(\"got var %s with type %s and value %s. Can be evaluated to %s with type %s\" % (k, type(v), v, e, type(e)))"
   ]
  },
  {
   "cell_type": "code",
   "execution_count": null,
   "metadata": {},
   "outputs": [],
   "source": [
    "import yaml\n",
    "\n",
    "with open('meow_directory/patterns/testing_types', 'r') as yaml_file:\n",
    "    yaml_dict = yaml.full_load(yaml_file)\n",
    "\n",
    "    print(yaml_dict)"
   ]
  },
  {
   "cell_type": "code",
   "execution_count": null,
   "metadata": {},
   "outputs": [],
   "source": [
    "import yaml\n",
    "\n",
    "main_dict = {\n",
    "    'vars': {\n",
    "        'int': 42,\n",
    "        'float': 4.2,\n",
    "        'str': '42',\n",
    "        'string': 'gary',\n",
    "        'num_list': [4, 2],\n",
    "        'str_list': ['4', '2'],\n",
    "        'db_str': \"susan\",\n",
    "        'db_str_list': [\"4\", \"2\"]\n",
    "    }\n",
    "}\n",
    "\n",
    "\n",
    "with open('test_dump', 'w') as file:\n",
    "    yaml.dump(\n",
    "        main_dict,\n",
    "        file,\n",
    "        default_flow_style=False\n",
    "    )\n",
    "    \n",
    "with open('test_dump', 'r') as yaml_file:\n",
    "    yaml_dict = yaml.full_load(yaml_file)\n",
    "\n",
    "    print(yaml_dict)"
   ]
  },
  {
   "cell_type": "code",
   "execution_count": null,
   "metadata": {},
   "outputs": [],
   "source": [
    "patterns.keys()\n",
    "tp = patterns['manual_testing_types']\n",
    "print(tp.variables)\n",
    "pattern_yaml = meow.patten_to_yaml_dict(tp)\n",
    "print(pattern_yaml)"
   ]
  },
  {
   "cell_type": "code",
   "execution_count": null,
   "metadata": {},
   "outputs": [],
   "source": [
    "from ast import literal_eval\n",
    "\n",
    "stringy_vars = {\n",
    "    'db_str': '\"42\"',\n",
    "    'db_str_list': '[\"4\", \"2\"]',\n",
    "    'float': '4.2',\n",
    "    'int': '42',\n",
    "    'num_list': '[4, 2]',\n",
    "    'str': '''42''',\n",
    "    'str_list': '[''4'', ''2'']',\n",
    "    'word': 'fourty two',\n",
    "    'char': 'f'\n",
    "}\n",
    "\n",
    "for k, v in stringy_vars.items():\n",
    "    var = k\n",
    "    val = v\n",
    "    try:\n",
    "        val = literal_eval(val)\n",
    "    except:\n",
    "        pass\n",
    "    print(\"got %s, is a %s with value %s\" % (var, type(val), val))\n"
   ]
  },
  {
   "cell_type": "code",
   "execution_count": null,
   "metadata": {},
   "outputs": [],
   "source": [
    "s = 'this is a string'\n",
    "print(s)"
   ]
  },
  {
   "cell_type": "code",
   "execution_count": null,
   "metadata": {},
   "outputs": [],
   "source": [
    "def get_quoted_val(value):\n",
    "    if isinstance(value, str):\n",
    "        return '\"%s\"' % value\n",
    "    return value\n",
    "\n",
    "vals = [\n",
    "    4,\n",
    "    '4',\n",
    "    \"7\",\n",
    "    'c',\n",
    "    \"s\"\n",
    "]\n",
    "\n",
    "for v in vals:\n",
    "    print(get_quoted_val(v))"
   ]
  },
  {
   "cell_type": "code",
   "execution_count": null,
   "metadata": {},
   "outputs": [],
   "source": [
    "# Clear local vgrid of contents and add specific patterns and recipes\n",
    "meow_objs = meow.read_vgrid(local_vgrid, ssl=False)\n",
    "\n",
    "patterns = meow_objs['patterns']\n",
    "recipes = meow_objs['recipes']\n",
    "\n",
    "for name, pattern in patterns.items():\n",
    "    meow.delete_vgrid_pattern(pattern, local_vgrid, ssl=False)\n",
    "          \n",
    "for name, recipe in recipes.items():\n",
    "    meow.delete_vgrid_recipe(recipe, local_vgrid, ssl=False)\n",
    "\n",
    "empty = meow.register_recipe(\"empty.ipynb\", name='empty')\n",
    "pat = meow.read_dir_pattern(\"my_pattern\")\n",
    "recipes = {\n",
    "    empty['name']: empty\n",
    "}\n",
    "patterns = {\n",
    "    pat.name: pat\n",
    "}\n",
    "\n",
    "meow_objs = meow.write_vgrid(patterns, recipes, local_vgrid, ssl=False)\n",
    "\n",
    "patterns = meow_objs['patterns']\n",
    "recipes = meow_objs['recipes']"
   ]
  },
  {
   "cell_type": "code",
   "execution_count": null,
   "metadata": {},
   "outputs": [],
   "source": [
    "# Clear local vgrid of contents and add specific patterns and recipes\n",
    "meow_objs = meow.read_vgrid(local_vgrid, ssl=False)\n",
    "\n",
    "patterns = meow_objs['patterns']\n",
    "recipes = meow_objs['recipes']\n",
    "\n",
    "for name, pattern in patterns.items():\n",
    "    meow.delete_vgrid_pattern(pattern, local_vgrid, ssl=False)\n",
    "          \n",
    "for name, recipe in recipes.items():\n",
    "    meow.delete_vgrid_recipe(recipe, local_vgrid, ssl=False)"
   ]
  },
  {
   "cell_type": "code",
   "execution_count": null,
   "metadata": {},
   "outputs": [],
   "source": [
    "# Read patterns and recipes from local vgrid\n",
    "meow_objs = meow.read_vgrid(local_vgrid, ssl=False)\n",
    "\n",
    "patterns = meow_objs['patterns']\n",
    "recipes = meow_objs['recipes']\n",
    "\n",
    "print(patterns.keys())\n",
    "print(recipes.keys())"
   ]
  },
  {
   "cell_type": "code",
   "execution_count": null,
   "metadata": {},
   "outputs": [],
   "source": [
    "meow.write_dir(patterns, recipes)"
   ]
  },
  {
   "cell_type": "code",
   "execution_count": null,
   "metadata": {},
   "outputs": [],
   "source": [
    "import requests\n",
    "\n",
    "response = requests.post(\n",
    "    'https://sid.migrid.test/cgi-sid/jobsjsoninterface.py?output_format=json',\n",
    "    json={\n",
    "        'workflowsessionid': 'c0ce045d689d46148676b449c3efa91bbb994f60d7bcf1514f5b4e75abd43f56', \n",
    "        'operation': 'read', \n",
    "        'type': 'any', \n",
    "        'attributes': {\n",
    "            'vgrid': 'link-test'\n",
    "        }\n",
    "    },\n",
    "    verify=False,\n",
    "    timeout=15\n",
    ")\n",
    "\n",
    "print(response)"
   ]
  },
  {
   "cell_type": "code",
   "execution_count": null,
   "metadata": {},
   "outputs": [],
   "source": []
  }
 ],
 "metadata": {
  "kernelspec": {
   "display_name": "Python 3",
   "language": "python",
   "name": "python3"
  },
  "language_info": {
   "codemirror_mode": {
    "name": "ipython",
    "version": 3
   },
   "file_extension": ".py",
   "mimetype": "text/x-python",
   "name": "python",
   "nbconvert_exporter": "python",
   "pygments_lexer": "ipython3",
   "version": "3.6.9"
  }
 },
 "nbformat": 4,
 "nbformat_minor": 4
}
