{
 "cells": [
  {
   "cell_type": "markdown",
   "metadata": {},
   "source": [
    "# mig_meow demonstration notebook\n",
    "\n",
    "This Notebook is defined as a brief demonstration of mig_meow, which is a python package for defining MEOW workflows in conjunction with the MiG. This notebook will not fully explain the concepts of mig_meow, Pattterns, Recipes, MiG, or VGrids. MEOW and its related concepts are the subject of a currently being written paper which will be linked here once done.  \n",
    "\n",
    "Its intended use is that this notebook would be launched through the MiG's own Jupyter spawner, which ensures maximum functionality. If you are not running this notebook through the MiG Jupyter spawner you may still define MEOW workflows and run a local model, but the Jupyter widget functionality will be reduced."
   ]
  },
  {
   "cell_type": "code",
   "execution_count": 1,
   "metadata": {},
   "outputs": [
    {
     "name": "stdout",
     "output_type": "stream",
     "text": [
      "ver: 0.15\n",
      "mig_meow has been imported correctly. \n",
      "Managing Event Oriented Workflows is a paradigm used for defining event based workflows. It is designed primarily to work with IDMC, a MiG implementation available at the University of Copenhagen. \n"
     ]
    }
   ],
   "source": [
    "import mig_meow as meow\n",
    "meow.info()"
   ]
  },
  {
   "cell_type": "markdown",
   "metadata": {},
   "source": [
    "## Widgets\n",
    "\n",
    "The main portal for defining and manipulating Patterns and Recipes is the workflow widget. Here, new Patterns and Recipes can be created, editted or deleted. Data can be saved to a local disk, or written to the appropriate VGrid on the MiG. If data is exported to the MiG using the 'Export' button then it will be used to potentiall schedule new Jobs and start a Workflow. \n",
    "\n",
    "Even though 'some_vgrid_name' does not exist we can still use the widget to inspect locally defined MEOW objects and to see how they interact. These objects can be loaded into the widget by hitting the 'Load' button. Note that for the widget to be trully useful in displaying a complete Workflow you should specify the expected outputs of a Pattern job. This is not necessary, and in fact is ignored by the MEOW definition, but will noticbly improve the readability of the preview. It follows therefore that this image is not necessarily an accurate representation of the actual produced workflow."
   ]
  },
  {
   "cell_type": "code",
   "execution_count": null,
   "metadata": {},
   "outputs": [],
   "source": [
    "meow.workflow_widget(vgrid='some_vgrid_name')"
   ]
  },
  {
   "cell_type": "markdown",
   "metadata": {},
   "source": [
    "These is also a widget for monitoring the jobs scheduled on the MiG from Patterns. Note that this function will not work if you are testing outside of the MiG as you will lack essential setup variables for establishing a connection to the MiG."
   ]
  },
  {
   "cell_type": "code",
   "execution_count": null,
   "metadata": {},
   "outputs": [],
   "source": [
    "try:\n",
    "    meow.monitor_widget(vgrid='some_vgrid_name')\n",
    "except OSError:\n",
    "    print('Cannot start the monitor widget outside of the MiG.')"
   ]
  },
  {
   "cell_type": "markdown",
   "metadata": {},
   "source": [
    "## Local operations\n",
    "\n",
    "Even if we're not connected to the MiG we can still use the workflow_widget in code cell 2 to create workflows. We can also do this outside of the widget. Here we can load in some pre-definded Patterns and Recipes."
   ]
  },
  {
   "cell_type": "code",
   "execution_count": null,
   "metadata": {},
   "outputs": [],
   "source": [
    "r = meow.read_dir()\n",
    "\n",
    "patterns = r['patterns']\n",
    "recipes = r['recipes']\n",
    "\n",
    "print(patterns.keys())\n",
    "print(recipes.keys())"
   ]
  },
  {
   "cell_type": "markdown",
   "metadata": {},
   "source": [
    "We could also read in individual Patterns or Recipes if we didn't need all of the predefined ones."
   ]
  },
  {
   "cell_type": "code",
   "execution_count": null,
   "metadata": {},
   "outputs": [],
   "source": [
    "r = meow.read_dir_pattern('third_choo')\n",
    "print(r.name)\n",
    "\n",
    "r = meow.read_dir_recipe('choo')\n",
    "print(r['name'])"
   ]
  },
  {
   "cell_type": "markdown",
   "metadata": {},
   "source": [
    "We can also define new Patterns programmatically using the inbuilt object functions, and can save them locally."
   ]
  },
  {
   "cell_type": "code",
   "execution_count": null,
   "metadata": {},
   "outputs": [],
   "source": [
    "p = meow.Pattern('test_pattern')\n",
    "p.add_single_input('in_file', 'text/*')\n",
    "# Note the recipe does not need to exist yet.\n",
    "p.add_recipe('appending')\n",
    "# This ensures we've made a valid Pattern, and will provide feedback if not.\n",
    "p.integrity_check()\n",
    "\n",
    "# If we want to re-use this Pattern we can save it to disk.\n",
    "meow.write_dir_pattern(p)"
   ]
  },
  {
   "cell_type": "markdown",
   "metadata": {},
   "source": [
    "Recipes are ultimatly Jupyter notebooks, and so are mainly defined in their own notebooks. Here we can register the notebook 'recipe_examples.ipynb' as a recipe. We can also save this as a Recipe."
   ]
  },
  {
   "cell_type": "code",
   "execution_count": null,
   "metadata": {},
   "outputs": [],
   "source": [
    "ex = meow.register_recipe('recipe_example.ipynb', name='appending')\n",
    "\n",
    "# We should check that the notebook we're read in is valid\n",
    "meow.is_valid_recipe_dict(ex)\n",
    "\n",
    "r = meow.write_dir_recipe(ex)"
   ]
  },
  {
   "cell_type": "markdown",
   "metadata": {},
   "source": [
    "If we are operating with a MiG VGrid we can export our Patterns and Recipes to the VGrid."
   ]
  },
  {
   "cell_type": "code",
   "execution_count": null,
   "metadata": {},
   "outputs": [],
   "source": [
    "try:\n",
    "    res = meow.write_vgrid(patterns, recipes, 'some_vgrid_name')\n",
    "    print(res)\n",
    "except OSError:\n",
    "    print('Cannot write to VGrid if you are not running from outside the MiG')"
   ]
  },
  {
   "cell_type": "markdown",
   "metadata": {},
   "source": [
    "## Running a local MEOW Workflow"
   ]
  },
  {
   "cell_type": "markdown",
   "metadata": {},
   "source": [
    "Although mig_meow is designed primarly to interact with the MiG, it can run its own local workflow runner. This should not be taken as a complete workflow system as it is very bare-bones, and has none of the advanced features expected from a modern scientific workflow engine. However, it can take Pattern and Recipe definitions and apply an event driven workflow model to a given data directory (and its sub-directories). This can give some indication of how a MEOW workflow might work in prcatice, or could be used to test initial workflow explorations. \n",
    "\n",
    "As a final note, this workflow runner is intended only as a model for illustrating MEOW workflows. It is not considered safe for deployment in any real system. "
   ]
  },
  {
   "cell_type": "code",
   "execution_count": 2,
   "metadata": {},
   "outputs": [
    {
     "name": "stdout",
     "output_type": "stream",
     "text": [
      "Got patterns: ['second_mult', 'third_choo', 'adder', 'first_mult']\n",
      "Got recipes: ['add', 'mult', 'choo']\n"
     ]
    },
    {
     "ename": "AttributeError",
     "evalue": "module 'mig_meow' has no attribute 'start_local_workflow'",
     "output_type": "error",
     "traceback": [
      "\u001b[0;31m---------------------------------------------------------------------------\u001b[0m",
      "\u001b[0;31mAttributeError\u001b[0m                            Traceback (most recent call last)",
      "\u001b[0;32m<ipython-input-2-5c6f8ed3cc1d>\u001b[0m in \u001b[0;36m<module>\u001b[0;34m\u001b[0m\n\u001b[1;32m     20\u001b[0m \u001b[0;34m\u001b[0m\u001b[0m\n\u001b[1;32m     21\u001b[0m \u001b[0;31m# We can now start our workflow runner. Note that the '3' is the number of parallel workers in the workflow runner.\u001b[0m\u001b[0;34m\u001b[0m\u001b[0;34m\u001b[0m\u001b[0;34m\u001b[0m\u001b[0m\n\u001b[0;32m---> 22\u001b[0;31m \u001b[0mmeow\u001b[0m\u001b[0;34m.\u001b[0m\u001b[0mstart_local_workflow\u001b[0m\u001b[0;34m(\u001b[0m\u001b[0mlocal_vgrid\u001b[0m\u001b[0;34m,\u001b[0m \u001b[0mpatterns\u001b[0m\u001b[0;34m,\u001b[0m \u001b[0mrecipes\u001b[0m\u001b[0;34m,\u001b[0m \u001b[0;36m3\u001b[0m\u001b[0;34m)\u001b[0m\u001b[0;34m\u001b[0m\u001b[0;34m\u001b[0m\u001b[0m\n\u001b[0m",
      "\u001b[0;31mAttributeError\u001b[0m: module 'mig_meow' has no attribute 'start_local_workflow'"
     ]
    }
   ],
   "source": [
    "import os\n",
    "\n",
    "# First get some Patterns and Recipes to work with. We're going to use the Patterns and Recipes provided with mig_meow \n",
    "# though any valid Patterns and Recipes can be used.\n",
    "response = meow.read_dir()\n",
    "\n",
    "patterns = response['patterns']\n",
    "recipes = response['recipes']\n",
    "\n",
    "print('Got patterns: %s' % list(patterns.keys()))\n",
    "print('Got recipes: %s' % list(recipes.keys()))\n",
    "\n",
    "# We're going to run the local runner in it's own fresh directory to illustrate exactly what new files the workflow makes, \n",
    "# though this isn't stricly necessary.\n",
    "local_vgrid = 'local_workflow_base'\n",
    "\n",
    "if os.path.exists(local_vgrid):\n",
    "    os.rmdir(local_vgrid)\n",
    "os.mkdir(local_vgrid)\n",
    "\n",
    "# We can now start our workflow runner. Note that the '3' is the number of parallel workers in the workflow runner.\n",
    "meow.start_local_workflow(local_vgrid, patterns, recipes, 3)"
   ]
  },
  {
   "cell_type": "code",
   "execution_count": null,
   "metadata": {},
   "outputs": [],
   "source": []
  }
 ],
 "metadata": {
  "kernelspec": {
   "display_name": "Python 3",
   "language": "python",
   "name": "python3"
  },
  "language_info": {
   "codemirror_mode": {
    "name": "ipython",
    "version": 3
   },
   "file_extension": ".py",
   "mimetype": "text/x-python",
   "name": "python",
   "nbconvert_exporter": "python",
   "pygments_lexer": "ipython3",
   "version": "3.6.9"
  }
 },
 "nbformat": 4,
 "nbformat_minor": 4
}
