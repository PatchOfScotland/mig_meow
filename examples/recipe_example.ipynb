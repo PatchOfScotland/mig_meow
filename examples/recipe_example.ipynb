{
 "cells": [
  {
   "cell_type": "markdown",
   "metadata": {},
   "source": [
    "# Example Recipe Notebook\n",
    "\n",
    "This notebook demonstrates how we can setup a notebook to be used by MEOW. For a demonstration of how it might become a Recipe see 'workflow_examples.ipynb'. \n",
    "\n",
    "In this case we have a notebook that runs some very simple processing. It reads in a text file and appends a line to it. For our purposes it is necessary to understand that the processing itself is meaningless, it is just that it takes input data, edits that data and then writes its data. This processing can be as simple or as complex as in any other Jupyter Notebook. To make the notebook useful it should take some parameters that can be changed. This notebook takes 3 parameters, which for ease of reading have been grouped in their own cell at the top, though this is not strictly necessary.\n",
    "\n",
    "As part of a MEOW workflow job, the a copy of the recipe notebook will be run, with updated parameters according to the appropriate Pattern. For instance, if this notebook was registered as a recipe and an according Pattern such as that in code cell 6 of 'workflow_examples.ipynb' was created, the parameter 'infile' and 'to_add' would be replaced for any scheduled jobs. "
   ]
  },
  {
   "cell_type": "code",
   "execution_count": 10,
   "metadata": {},
   "outputs": [],
   "source": [
    "infile = 'textfile.txt'\n",
    "outfile = 'editted.txt'\n",
    "to_add = '\\nThis is some additional text. '"
   ]
  },
  {
   "cell_type": "code",
   "execution_count": 11,
   "metadata": {},
   "outputs": [],
   "source": [
    "with open(infile, 'r') as input_file:\n",
    "    data = input_file.read()\n",
    "    \n",
    "data += to_add\n",
    "\n",
    "with open(outfile, 'w') as output_file:\n",
    "    output_file.write(data)"
   ]
  }
 ],
 "metadata": {
  "kernelspec": {
   "display_name": "Python 3",
   "language": "python",
   "name": "python3"
  },
  "language_info": {
   "codemirror_mode": {
    "name": "ipython",
    "version": 3
   },
   "file_extension": ".py",
   "mimetype": "text/x-python",
   "name": "python",
   "nbconvert_exporter": "python",
   "pygments_lexer": "ipython3",
   "version": "3.6.9"
  }
 },
 "nbformat": 4,
 "nbformat_minor": 4
}
